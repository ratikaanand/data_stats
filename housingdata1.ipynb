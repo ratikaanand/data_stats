{
 "cells": [
  {
   "cell_type": "markdown",
   "id": "c5d8c02a-b2d7-4893-bd4e-66566b1abe9b",
   "metadata": {},
   "source": [
    "# Statistics for data science - course project"
   ]
  },
  {
   "cell_type": "markdown",
   "id": "93a5c5be-df07-444e-8505-21ebf61f9b7f",
   "metadata": {},
   "source": [
    "## Import the libraries"
   ]
  },
  {
   "cell_type": "code",
   "execution_count": 2,
   "id": "a078c6db-2e85-4dda-82e1-f1cdf117f035",
   "metadata": {},
   "outputs": [],
   "source": [
    "import pandas as pd\n",
    "import numpy as np\n",
    "import matplotlib.pyplot as plt\n",
    "import seaborn as sns\n",
    "import statsmodels.api as sm\n",
    "import scipy.stats"
   ]
  },
  {
   "cell_type": "markdown",
   "id": "e06b9190-0536-49a0-bc84-9ffc095d40fc",
   "metadata": {},
   "source": [
    "## Load the Boston Housing dataset"
   ]
  },
  {
   "cell_type": "code",
   "execution_count": 3,
   "id": "f35e1c49-b179-4802-bb3c-38a89a98b860",
   "metadata": {},
   "outputs": [],
   "source": [
    "boston_url='https://cf-courses-data.s3.us.cloud-object-storage.appdomain.cloud/IBMDeveloperSkillsNetwork-ST0151EN-SkillsNetwork/labs/boston_housing.csv'\n",
    "boston_df=pd.read_csv(boston_url)"
   ]
  },
  {
   "cell_type": "code",
   "execution_count": 4,
   "id": "dfb2a9f5-e5a6-4717-92d6-67f18a267500",
   "metadata": {},
   "outputs": [
    {
     "data": {
      "text/html": [
       "<div>\n",
       "<style scoped>\n",
       "    .dataframe tbody tr th:only-of-type {\n",
       "        vertical-align: middle;\n",
       "    }\n",
       "\n",
       "    .dataframe tbody tr th {\n",
       "        vertical-align: top;\n",
       "    }\n",
       "\n",
       "    .dataframe thead th {\n",
       "        text-align: right;\n",
       "    }\n",
       "</style>\n",
       "<table border=\"1\" class=\"dataframe\">\n",
       "  <thead>\n",
       "    <tr style=\"text-align: right;\">\n",
       "      <th></th>\n",
       "      <th>Unnamed: 0</th>\n",
       "      <th>CRIM</th>\n",
       "      <th>ZN</th>\n",
       "      <th>INDUS</th>\n",
       "      <th>CHAS</th>\n",
       "      <th>NOX</th>\n",
       "      <th>RM</th>\n",
       "      <th>AGE</th>\n",
       "      <th>DIS</th>\n",
       "      <th>RAD</th>\n",
       "      <th>TAX</th>\n",
       "      <th>PTRATIO</th>\n",
       "      <th>LSTAT</th>\n",
       "      <th>MEDV</th>\n",
       "    </tr>\n",
       "  </thead>\n",
       "  <tbody>\n",
       "    <tr>\n",
       "      <th>0</th>\n",
       "      <td>0</td>\n",
       "      <td>0.00632</td>\n",
       "      <td>18.0</td>\n",
       "      <td>2.31</td>\n",
       "      <td>0.0</td>\n",
       "      <td>0.538</td>\n",
       "      <td>6.575</td>\n",
       "      <td>65.2</td>\n",
       "      <td>4.0900</td>\n",
       "      <td>1.0</td>\n",
       "      <td>296.0</td>\n",
       "      <td>15.3</td>\n",
       "      <td>4.98</td>\n",
       "      <td>24.0</td>\n",
       "    </tr>\n",
       "    <tr>\n",
       "      <th>1</th>\n",
       "      <td>1</td>\n",
       "      <td>0.02731</td>\n",
       "      <td>0.0</td>\n",
       "      <td>7.07</td>\n",
       "      <td>0.0</td>\n",
       "      <td>0.469</td>\n",
       "      <td>6.421</td>\n",
       "      <td>78.9</td>\n",
       "      <td>4.9671</td>\n",
       "      <td>2.0</td>\n",
       "      <td>242.0</td>\n",
       "      <td>17.8</td>\n",
       "      <td>9.14</td>\n",
       "      <td>21.6</td>\n",
       "    </tr>\n",
       "    <tr>\n",
       "      <th>2</th>\n",
       "      <td>2</td>\n",
       "      <td>0.02729</td>\n",
       "      <td>0.0</td>\n",
       "      <td>7.07</td>\n",
       "      <td>0.0</td>\n",
       "      <td>0.469</td>\n",
       "      <td>7.185</td>\n",
       "      <td>61.1</td>\n",
       "      <td>4.9671</td>\n",
       "      <td>2.0</td>\n",
       "      <td>242.0</td>\n",
       "      <td>17.8</td>\n",
       "      <td>4.03</td>\n",
       "      <td>34.7</td>\n",
       "    </tr>\n",
       "    <tr>\n",
       "      <th>3</th>\n",
       "      <td>3</td>\n",
       "      <td>0.03237</td>\n",
       "      <td>0.0</td>\n",
       "      <td>2.18</td>\n",
       "      <td>0.0</td>\n",
       "      <td>0.458</td>\n",
       "      <td>6.998</td>\n",
       "      <td>45.8</td>\n",
       "      <td>6.0622</td>\n",
       "      <td>3.0</td>\n",
       "      <td>222.0</td>\n",
       "      <td>18.7</td>\n",
       "      <td>2.94</td>\n",
       "      <td>33.4</td>\n",
       "    </tr>\n",
       "    <tr>\n",
       "      <th>4</th>\n",
       "      <td>4</td>\n",
       "      <td>0.06905</td>\n",
       "      <td>0.0</td>\n",
       "      <td>2.18</td>\n",
       "      <td>0.0</td>\n",
       "      <td>0.458</td>\n",
       "      <td>7.147</td>\n",
       "      <td>54.2</td>\n",
       "      <td>6.0622</td>\n",
       "      <td>3.0</td>\n",
       "      <td>222.0</td>\n",
       "      <td>18.7</td>\n",
       "      <td>5.33</td>\n",
       "      <td>36.2</td>\n",
       "    </tr>\n",
       "  </tbody>\n",
       "</table>\n",
       "</div>"
      ],
      "text/plain": [
       "   Unnamed: 0     CRIM    ZN  INDUS  CHAS    NOX     RM   AGE     DIS  RAD  \\\n",
       "0           0  0.00632  18.0   2.31   0.0  0.538  6.575  65.2  4.0900  1.0   \n",
       "1           1  0.02731   0.0   7.07   0.0  0.469  6.421  78.9  4.9671  2.0   \n",
       "2           2  0.02729   0.0   7.07   0.0  0.469  7.185  61.1  4.9671  2.0   \n",
       "3           3  0.03237   0.0   2.18   0.0  0.458  6.998  45.8  6.0622  3.0   \n",
       "4           4  0.06905   0.0   2.18   0.0  0.458  7.147  54.2  6.0622  3.0   \n",
       "\n",
       "     TAX  PTRATIO  LSTAT  MEDV  \n",
       "0  296.0     15.3   4.98  24.0  \n",
       "1  242.0     17.8   9.14  21.6  \n",
       "2  242.0     17.8   4.03  34.7  \n",
       "3  222.0     18.7   2.94  33.4  \n",
       "4  222.0     18.7   5.33  36.2  "
      ]
     },
     "execution_count": 4,
     "metadata": {},
     "output_type": "execute_result"
    }
   ],
   "source": [
    "#print out the first 5 rows of the data\n",
    "boston_df.head()"
   ]
  },
  {
   "cell_type": "markdown",
   "id": "bd8d4987-68f8-44bf-9b09-af2a3ef1939f",
   "metadata": {},
   "source": [
    "## Median value of owner-occupied homes"
   ]
  },
  {
   "cell_type": "markdown",
   "id": "8ab560d0-d26c-4457-9686-a7b8cec76daf",
   "metadata": {},
   "source": [
    "For the \"Median value of owner-occupied homes\", provide a Boxplot"
   ]
  },
  {
   "cell_type": "code",
   "execution_count": 5,
   "id": "37d968cb-95a7-47e6-9461-4a68d064869e",
   "metadata": {},
   "outputs": [
    {
     "data": {
      "text/plain": [
       "Text(0.5, 1.0, 'Median Value of owner-occupied homes')"
      ]
     },
     "execution_count": 5,
     "metadata": {},
     "output_type": "execute_result"
    },
    {
     "data": {
      "image/png": "[encoded data removed]",
      "text/plain": [
       "<Figure size 432x288 with 1 Axes>"
      ]
     },
     "metadata": {
      "needs_background": "light"
     },
     "output_type": "display_data"
    }
   ],
   "source": [
    "ax=sns.boxplot(y=\"MEDV\",data=boston_df)\n",
    "plt.title(\"Median Value of owner-occupied homes\")"
   ]
  },
  {
   "cell_type": "markdown",
   "id": "c5438ecf-8b7d-4c79-818e-257164194a08",
   "metadata": {},
   "source": [
    "## Charles River variable"
   ]
  },
  {
   "cell_type": "markdown",
   "id": "055095c2-3e4b-47a9-ad14-8d6c0bf121d7",
   "metadata": {},
   "source": [
    "Provide a bar plot for the Charles River variable"
   ]
  },
  {
   "cell_type": "code",
   "execution_count": 6,
   "id": "1efe6b59-5d48-4705-89a0-1f5675742e68",
   "metadata": {},
   "outputs": [
    {
     "data": {
      "text/plain": [
       "Text(0.5, 1.0, 'Charles River variable')"
      ]
     },
     "execution_count": 6,
     "metadata": {},
     "output_type": "execute_result"
    },
    {
     "data": {
      "image/png": "[encoded data removed]",
      "text/plain": [
       "<Figure size 432x288 with 1 Axes>"
      ]
     },
     "metadata": {
      "needs_background": "light"
     },
     "output_type": "display_data"
    }
   ],
   "source": [
    "plt.bar(boston_df.CHAS.unique(),boston_df.CHAS.value_counts(),color=[\"red\",\"blue\"])\n",
    "plt.xlabel(\"CHAS\")\n",
    "plt.ylabel(\"Count\")\n",
    "plt.title(\"Charles River variable\")"
   ]
  },
  {
   "cell_type": "markdown",
   "id": "38b8a9af-4b02-4162-9712-844ef445358c",
   "metadata": {},
   "source": [
    "## MEDV vs AGE"
   ]
  },
  {
   "cell_type": "markdown",
   "id": "bab4f70a-5c0f-4cf8-bd93-294eb8662df7",
   "metadata": {},
   "source": [
    "Provide a Boxplot for the MEDV variable vs AGE variable (Discretize the AGE variable into 3 groups of 35 years and younger, between 35 and 70 years, and 70 years and older)."
   ]
  },
  {
   "cell_type": "code",
   "execution_count": 7,
   "id": "5272f002-a4fc-4afe-9639-ce7318595cbd",
   "metadata": {},
   "outputs": [],
   "source": [
    "boston_df.loc[(boston_df.AGE<=35),'age_group']='35 years and younger'\n",
    "boston_df.loc[((boston_df.AGE>35)&(boston_df.AGE<70)),'age_group']='between 35 and 70 years'\n",
    "boston_df.loc[(boston_df.AGE>=70),'age_group']='70 years and older'"
   ]
  },
  {
   "cell_type": "code",
   "execution_count": 8,
   "id": "49ba56d7-68f7-493d-9d35-54e44b08103c",
   "metadata": {},
   "outputs": [
    {
     "data": {
      "text/plain": [
       "Text(0, 0.5, 'Median Value')"
      ]
     },
     "execution_count": 8,
     "metadata": {},
     "output_type": "execute_result"
    },
    {
     "data": {
      "image/png": "[encoded data removed]",
      "text/plain": [
       "<Figure size 432x288 with 1 Axes>"
      ]
     },
     "metadata": {
      "needs_background": "light"
     },
     "output_type": "display_data"
    }
   ],
   "source": [
    "ax=sns.boxplot(x=\"age_group\",y=\"MEDV\",data=boston_df)\n",
    "plt.title(\"Median Value vs Age Groups\")\n",
    "plt.ylabel(\"Median Value\")"
   ]
  },
  {
   "cell_type": "markdown",
   "id": "0f7fb9aa-b3e4-434e-a089-60f35f781289",
   "metadata": {},
   "source": [
    "## Relationship between Nitric Oxide Concentrations and the proportion of non-retail business acres per town"
   ]
  },
  {
   "cell_type": "markdown",
   "id": "f731a1bd-82d2-4fcb-aad8-e8fa1373fa37",
   "metadata": {},
   "source": [
    "Provide a scatterplot to show the relationship between Nitric Oxide Concentrations and the proportion of non-retail business acres per town. What can you say about the relationship?"
   ]
  },
  {
   "cell_type": "code",
   "execution_count": 9,
   "id": "8e15fec1-79e1-4f0a-98bc-96873b4c8f9f",
   "metadata": {},
   "outputs": [
    {
     "data": {
      "text/plain": [
       "Text(0, 0.5, 'Proportion of non-retail business areas')"
      ]
     },
     "execution_count": 9,
     "metadata": {},
     "output_type": "execute_result"
    },
    {
     "data": {
      "image/png": "[encoded data removed]",
      "text/plain": [
       "<Figure size 432x288 with 1 Axes>"
      ]
     },
     "metadata": {
      "needs_background": "light"
     },
     "output_type": "display_data"
    }
   ],
   "source": [
    "ax=sns.scatterplot(x=\"NOX\",y=\"INDUS\",data=boston_df)\n",
    "plt.title(\"NOX vs INDUS\")\n",
    "plt.xlabel(\"Concentration of nitric oxide(in ppm)\")\n",
    "plt.ylabel(\"Proportion of non-retail business areas\")"
   ]
  },
  {
   "cell_type": "markdown",
   "id": "4a606d6b-99a8-4f6c-8cd9-72edaf254404",
   "metadata": {},
   "source": [
    "From the above scatterplot, we can say that there is a positive sloping relationship between concentration of Nitric Oxides and the proportion of non-retail business acres per town. But as the concentration grows more than 0.6ppm, the industrial area remains approximately the same."
   ]
  },
  {
   "cell_type": "markdown",
   "id": "fbb03d55-7b22-4d79-baa0-d8d67f79dcda",
   "metadata": {},
   "source": [
    "## Pupil to Teachers Ratio Distribution"
   ]
  },
  {
   "cell_type": "markdown",
   "id": "745fe8e0-d9fa-4ff9-9164-15451ce4b38d",
   "metadata": {},
   "source": [
    "Create a histogram for the pupil to teacher ratio variable."
   ]
  },
  {
   "cell_type": "code",
   "execution_count": 10,
   "id": "0bd0c9c5-468e-461d-9f92-f1c03e593a9e",
   "metadata": {},
   "outputs": [
    {
     "data": {
      "text/plain": [
       "Text(0.5, 1.0, 'Students to Teachers Ratio Distribution')"
      ]
     },
     "execution_count": 10,
     "metadata": {},
     "output_type": "execute_result"
    },
    {
     "data": {
      "image/png": "[encoded data removed]",
      "text/plain": [
       "<Figure size 432x288 with 1 Axes>"
      ]
     },
     "metadata": {
      "needs_background": "light"
     },
     "output_type": "display_data"
    }
   ],
   "source": [
    "plt.hist(boston_df[\"PTRATIO\"])\n",
    "plt.xlabel(\"PTRATIO\")\n",
    "plt.ylabel(\"frequency\")\n",
    "plt.title(\"Students to Teachers Ratio Distribution\")"
   ]
  },
  {
   "cell_type": "markdown",
   "id": "86560fb3-d97f-41b3-bb3e-c448e44bae40",
   "metadata": {},
   "source": [
    "## Use the appropriate test to answer the questions provided"
   ]
  },
  {
   "cell_type": "markdown",
   "id": "a5cea400-6490-4791-bb2a-138b61c62af7",
   "metadata": {},
   "source": [
    "### 1. Is there a significant difference in median value of houses bounded by the Charles River or not?(T-test for independent samples)"
   ]
  },
  {
   "cell_type": "markdown",
   "id": "584570cc-ac88-40e9-9ee6-ad3fe7f2b404",
   "metadata": {},
   "source": [
    "#### Stating the Hypothesis:"
   ]
  },
  {
   "cell_type": "markdown",
   "id": "7b40b261-0659-424b-97ce-819377b5dbb5",
   "metadata": {},
   "source": [
    "* **$H_0:\\mu_1=\\mu_2$** (There is no difference in median value of houses bounded by the Charles River).\n",
    "* **$H_1:\\mu_1\\ne\\mu_2$** (There is a difference in median value of houses bounded by the Charles River)."
   ]
  },
  {
   "cell_type": "markdown",
   "id": "d7933a6e-622d-4db2-845a-9f8b3976af04",
   "metadata": {},
   "source": [
    "**Setting $\\alpha$=0.05**"
   ]
  },
  {
   "cell_type": "code",
   "execution_count": 11,
   "id": "9489d87d-5c00-43a7-8b8c-7fefb2b37508",
   "metadata": {},
   "outputs": [
    {
     "data": {
      "text/plain": [
       "Ttest_indResult(statistic=3.996437466090509, pvalue=7.390623170519905e-05)"
      ]
     },
     "execution_count": 11,
     "metadata": {},
     "output_type": "execute_result"
    }
   ],
   "source": [
    "scipy.stats.ttest_ind(boston_df[boston_df.CHAS==1].MEDV,boston_df[boston_df.CHAS==0].MEDV,equal_var=True)"
   ]
  },
  {
   "cell_type": "markdown",
   "id": "38045e00-6907-4b8f-b7d0-2737eac8c090",
   "metadata": {},
   "source": [
    "**Conclusion:** Since the p-value is less than 0.05, we will reject the null hypothesis as there is a significant difference in median value of houses bounded by the Charles river."
   ]
  },
  {
   "cell_type": "markdown",
   "id": "26c8921f-8cd5-4369-9019-8bb8f1d5e3e8",
   "metadata": {},
   "source": [
    "### 2. Is there a difference in median values of houses(MEDV) for each proportion of owner occupied units built prior to 1940(AGE)?(ANOVA)"
   ]
  },
  {
   "cell_type": "markdown",
   "id": "59c47079-7a12-4160-9685-208d09a9a471",
   "metadata": {},
   "source": [
    "First, we group the data into categories as the one-way ANOVA can't work with continuous variable.\n",
    "* 35 years and younger\n",
    "* Between 35 and 70 years\n",
    "* 70 years and older"
   ]
  },
  {
   "cell_type": "code",
   "execution_count": 12,
   "id": "b7e3377a-6f55-49fa-a77e-98b911479eea",
   "metadata": {},
   "outputs": [],
   "source": [
    "boston_df.loc[(boston_df.AGE<=35),'age_group']='35 years and younger'\n",
    "boston_df.loc[((boston_df.AGE>35)&(boston_df.AGE<70)),'age_group']='Between 35 and 70 years'\n",
    "boston_df.loc[(boston_df.AGE>=70),'age_group']='70 years and older'"
   ]
  },
  {
   "cell_type": "markdown",
   "id": "fd65d281-27a4-4b96-a25a-e069ad7b0b55",
   "metadata": {},
   "source": [
    "#### Stating the Hypothesis:"
   ]
  },
  {
   "cell_type": "markdown",
   "id": "28a40b75-9df7-475f-b48b-1f565fdd69c5",
   "metadata": {},
   "source": [
    "* **$H_0:\\mu_1=\\mu_2=\\mu_3$** (The three population means are equal)\n",
    "* **$H_1$:** (Atleast one of the means differ)"
   ]
  },
  {
   "cell_type": "markdown",
   "id": "13717c15-7fec-429e-83e3-d1ce35d429ad",
   "metadata": {},
   "source": [
    "**Setting $\\alpha$=0.05**"
   ]
  },
  {
   "cell_type": "code",
   "execution_count": 13,
   "id": "b6956749-0bb5-4c42-8dfb-7b6b0f4b2435",
   "metadata": {},
   "outputs": [
    {
     "data": {
      "text/plain": [
       "LeveneResult(statistic=2.780620029374844, pvalue=0.06295337343259205)"
      ]
     },
     "execution_count": 13,
     "metadata": {},
     "output_type": "execute_result"
    }
   ],
   "source": [
    "#test for equality of variance\n",
    "scipy.stats.levene(boston_df[boston_df.age_group=='35 years and younger']['MEDV'],\n",
    "                   boston_df[boston_df.age_group=='Between 35 and 70 years']['MEDV'],\n",
    "                   boston_df[boston_df.age_group=='70 years and older']['MEDV'],center='mean')"
   ]
  },
  {
   "cell_type": "markdown",
   "id": "14beb7d7-6dfd-44e3-98ab-95c30f46f8ba",
   "metadata": {},
   "source": [
    "First, separate the three samples (one for each category) into a variable each."
   ]
  },
  {
   "cell_type": "code",
   "execution_count": 14,
   "id": "d38a132a-0fe4-4f24-bf40-a7cc523c56a4",
   "metadata": {},
   "outputs": [],
   "source": [
    "thirtyfive_lower=boston_df[boston_df['age_group']=='35 years and younger']['MEDV']\n",
    "thirtyfive_seventy=boston_df[boston_df['age_group']=='Between 35 and 70 years']['MEDV']\n",
    "seventy_older=boston_df[boston_df['age_group']=='70 years and older']['MEDV']"
   ]
  },
  {
   "cell_type": "markdown",
   "id": "ae076ec8-1d10-440c-af07-d7ef3c2c9138",
   "metadata": {},
   "source": [
    "Now, run a one-way ANOVA."
   ]
  },
  {
   "cell_type": "code",
   "execution_count": 15,
   "id": "d57b1441-8399-42e3-bb26-4ba1bafff0a4",
   "metadata": {},
   "outputs": [
    {
     "data": {
      "text/plain": [
       "F_onewayResult(statistic=36.40764999196599, pvalue=1.7105011022702984e-15)"
      ]
     },
     "execution_count": 15,
     "metadata": {},
     "output_type": "execute_result"
    }
   ],
   "source": [
    "scipy.stats.f_oneway(thirtyfive_lower,thirtyfive_seventy,seventy_older)"
   ]
  },
  {
   "cell_type": "markdown",
   "id": "1ea531fa-40f7-4284-a034-a39f99ffbb19",
   "metadata": {},
   "source": [
    "**Conclusion:** Since the p-value is less than 0.05, we will reject the null hypothesis as there is enough proof that there is a statistical difference in median value of houses for each proportion of owner occupied units built prior to 1940."
   ]
  },
  {
   "cell_type": "markdown",
   "id": "26deb5e0-bd86-4710-bddc-be094bb1df60",
   "metadata": {},
   "source": [
    "### 3. Can we conclude that there is no relationship between Nitric oxide concentrations and proportion of non-retail business acres per town? (Pearson Correlation)"
   ]
  },
  {
   "cell_type": "markdown",
   "id": "8e7f6e1e-43d0-4a5c-aad7-05851eb23661",
   "metadata": {},
   "source": [
    "#### Stating the Hypothesis:"
   ]
  },
  {
   "cell_type": "markdown",
   "id": "024e7784-a858-46fd-8160-2f9f2cb76edd",
   "metadata": {},
   "source": [
    "* **$H_0$:** There is no relationship between Nitric oxide concentration(NOX) and proportion of non-retail business acres per town(INDUS).\n",
    "* **$H_1$:** There is a relationship between Nitric oxide concentration(NOX) and proportion of non-retail business acres per town(INDUS)."
   ]
  },
  {
   "cell_type": "markdown",
   "id": "8a2bff9e-9d55-4ca8-8243-00f5c36b59f9",
   "metadata": {},
   "source": [
    "**Setting $\\alpha$=0.05**"
   ]
  },
  {
   "cell_type": "code",
   "execution_count": 16,
   "id": "18fcef4f-0ca3-488d-8c85-82b4e01d0233",
   "metadata": {},
   "outputs": [
    {
     "data": {
      "image/png": "[encoded data removed]",
      "text/plain": [
       "<Figure size 432x288 with 1 Axes>"
      ]
     },
     "metadata": {
      "needs_background": "light"
     },
     "output_type": "display_data"
    }
   ],
   "source": [
    "ax=sns.scatterplot(x=\"NOX\",y=\"INDUS\",data=boston_df)"
   ]
  },
  {
   "cell_type": "code",
   "execution_count": 17,
   "id": "455becec-8edb-4262-a5a9-d03a2e2c3874",
   "metadata": {},
   "outputs": [
    {
     "data": {
      "text/plain": [
       "(0.7636514469209149, 7.913361061240043e-98)"
      ]
     },
     "execution_count": 17,
     "metadata": {},
     "output_type": "execute_result"
    }
   ],
   "source": [
    "scipy.stats.pearsonr(boston_df['NOX'],boston_df['INDUS'])"
   ]
  },
  {
   "cell_type": "markdown",
   "id": "9dc3e47c-1b7e-4aab-81e1-fece047cd4e6",
   "metadata": {},
   "source": [
    "**Conclusion:** Since the p-value is less than 0.05, we will reject the null hypothesis and conclude that there exists a relationship between nitric oxide concentrations and proportions of non-retail business acres per town. "
   ]
  },
  {
   "cell_type": "markdown",
   "id": "e2b70d2c-b69e-4f62-a7ca-b637f711d4f8",
   "metadata": {},
   "source": [
    "### 4. What is an impact of an additional weighted distance to the five Boston employment centres on the median value of owner occupied homes?(Regression analysis)"
   ]
  },
  {
   "cell_type": "markdown",
   "id": "8a21b48d-ccd2-477a-8425-8a1990392312",
   "metadata": {},
   "source": [
    "#### Stating the Hypothesis:"
   ]
  },
  {
   "cell_type": "markdown",
   "id": "2cb9344b-9545-4c09-98a1-26179524b3ad",
   "metadata": {},
   "source": [
    "* **$H_0: \\beta_1=0$** (There is no impact of an additional weighted distance to the five Boston employment centres on the median value of owner occupied homes).\n",
    "* **$H_1: \\beta_1\\ne0$** (There is an impact of an additional weighted distance to the five Boston employment centres on the median value of owner occupied homes)."
   ]
  },
  {
   "cell_type": "code",
   "execution_count": 21,
   "id": "5791822c-d040-4289-a6b0-1cfa4925dc31",
   "metadata": {},
   "outputs": [
    {
     "name": "stderr",
     "output_type": "stream",
     "text": [
      "/home/jupyterlab/conda/envs/python/lib/python3.7/site-packages/statsmodels/tsa/tsatools.py:142: FutureWarning: In a future version of pandas all arguments of concat except for the argument 'objs' will be keyword-only\n",
      "  x = pd.concat(x[::order], 1)\n"
     ]
    },
    {
     "data": {
      "text/html": [
       "<table class=\"simpletable\">\n",
       "<caption>OLS Regression Results</caption>\n",
       "<tr>\n",
       "  <th>Dep. Variable:</th>          <td>MEDV</td>       <th>  R-squared:         </th> <td>   0.062</td>\n",
       "</tr>\n",
       "<tr>\n",
       "  <th>Model:</th>                   <td>OLS</td>       <th>  Adj. R-squared:    </th> <td>   0.061</td>\n",
       "</tr>\n",
       "<tr>\n",
       "  <th>Method:</th>             <td>Least Squares</td>  <th>  F-statistic:       </th> <td>   33.58</td>\n",
       "</tr>\n",
       "<tr>\n",
       "  <th>Date:</th>             <td>Tue, 07 Jun 2022</td> <th>  Prob (F-statistic):</th> <td>1.21e-08</td>\n",
       "</tr>\n",
       "<tr>\n",
       "  <th>Time:</th>                 <td>06:53:14</td>     <th>  Log-Likelihood:    </th> <td> -1823.9</td>\n",
       "</tr>\n",
       "<tr>\n",
       "  <th>No. Observations:</th>      <td>   506</td>      <th>  AIC:               </th> <td>   3652.</td>\n",
       "</tr>\n",
       "<tr>\n",
       "  <th>Df Residuals:</th>          <td>   504</td>      <th>  BIC:               </th> <td>   3660.</td>\n",
       "</tr>\n",
       "<tr>\n",
       "  <th>Df Model:</th>              <td>     1</td>      <th>                     </th>     <td> </td>   \n",
       "</tr>\n",
       "<tr>\n",
       "  <th>Covariance Type:</th>      <td>nonrobust</td>    <th>                     </th>     <td> </td>   \n",
       "</tr>\n",
       "</table>\n",
       "<table class=\"simpletable\">\n",
       "<tr>\n",
       "    <td></td>       <th>coef</th>     <th>std err</th>      <th>t</th>      <th>P>|t|</th>  <th>[0.025</th>    <th>0.975]</th>  \n",
       "</tr>\n",
       "<tr>\n",
       "  <th>const</th> <td>   18.3901</td> <td>    0.817</td> <td>   22.499</td> <td> 0.000</td> <td>   16.784</td> <td>   19.996</td>\n",
       "</tr>\n",
       "<tr>\n",
       "  <th>DIS</th>   <td>    1.0916</td> <td>    0.188</td> <td>    5.795</td> <td> 0.000</td> <td>    0.722</td> <td>    1.462</td>\n",
       "</tr>\n",
       "</table>\n",
       "<table class=\"simpletable\">\n",
       "<tr>\n",
       "  <th>Omnibus:</th>       <td>139.779</td> <th>  Durbin-Watson:     </th> <td>   0.570</td>\n",
       "</tr>\n",
       "<tr>\n",
       "  <th>Prob(Omnibus):</th> <td> 0.000</td>  <th>  Jarque-Bera (JB):  </th> <td> 305.104</td>\n",
       "</tr>\n",
       "<tr>\n",
       "  <th>Skew:</th>          <td> 1.466</td>  <th>  Prob(JB):          </th> <td>5.59e-67</td>\n",
       "</tr>\n",
       "<tr>\n",
       "  <th>Kurtosis:</th>      <td> 5.424</td>  <th>  Cond. No.          </th> <td>    9.32</td>\n",
       "</tr>\n",
       "</table><br/><br/>Notes:<br/>[1] Standard Errors assume that the covariance matrix of the errors is correctly specified."
      ],
      "text/plain": [
       "<class 'statsmodels.iolib.summary.Summary'>\n",
       "\"\"\"\n",
       "                            OLS Regression Results                            \n",
       "==============================================================================\n",
       "Dep. Variable:                   MEDV   R-squared:                       0.062\n",
       "Model:                            OLS   Adj. R-squared:                  0.061\n",
       "Method:                 Least Squares   F-statistic:                     33.58\n",
       "Date:                Tue, 07 Jun 2022   Prob (F-statistic):           1.21e-08\n",
       "Time:                        06:53:14   Log-Likelihood:                -1823.9\n",
       "No. Observations:                 506   AIC:                             3652.\n",
       "Df Residuals:                     504   BIC:                             3660.\n",
       "Df Model:                           1                                         \n",
       "Covariance Type:            nonrobust                                         \n",
       "==============================================================================\n",
       "                 coef    std err          t      P>|t|      [0.025      0.975]\n",
       "------------------------------------------------------------------------------\n",
       "const         18.3901      0.817     22.499      0.000      16.784      19.996\n",
       "DIS            1.0916      0.188      5.795      0.000       0.722       1.462\n",
       "==============================================================================\n",
       "Omnibus:                      139.779   Durbin-Watson:                   0.570\n",
       "Prob(Omnibus):                  0.000   Jarque-Bera (JB):              305.104\n",
       "Skew:                           1.466   Prob(JB):                     5.59e-67\n",
       "Kurtosis:                       5.424   Cond. No.                         9.32\n",
       "==============================================================================\n",
       "\n",
       "Notes:\n",
       "[1] Standard Errors assume that the covariance matrix of the errors is correctly specified.\n",
       "\"\"\""
      ]
     },
     "execution_count": 21,
     "metadata": {},
     "output_type": "execute_result"
    }
   ],
   "source": [
    "## X is the input variable(or independent variable)\n",
    "X=boston_df[\"DIS\"]\n",
    "## y is the target variable(or dependent variable)\n",
    "y=boston_df[\"MEDV\"]\n",
    "## add an intercept (beta_0) to our model\n",
    "X=sm.add_constant(X)\n",
    "\n",
    "model=sm.OLS(y,X).fit()\n",
    "predictions=model.predict(X)\n",
    "\n",
    "## print out the statistics\n",
    "model.summary()"
   ]
  },
  {
   "cell_type": "markdown",
   "id": "fc7a5611-506b-4e44-be33-37ee0e0e9e24",
   "metadata": {},
   "source": [
    "**Conclusion:** Since the p-value is less than the alpha ($\\alpha$) level=0.05, so we reject the null hypothesis as there is evidence that there is an additional impact of 1.0916 of weighted distance to the five Boston employment centres on the median value of owner occupied homes."
   ]
  },
  {
   "cell_type": "code",
   "execution_count": null,
   "id": "ddd7e445-ed92-440d-8416-f1f12d33c1d4",
   "metadata": {},
   "outputs": [],
   "source": []
  }
 ],
 "metadata": {
  "kernelspec": {
   "display_name": "Python",
   "language": "python",
   "name": "conda-env-python-py"
  },
  "language_info": {
   "codemirror_mode": {
    "name": "ipython",
    "version": 3
   },
   "file_extension": ".py",
   "mimetype": "text/x-python",
   "name": "python",
   "nbconvert_exporter": "python",
   "pygments_lexer": "ipython3",
   "version": "3.7.12"
  }
 },
 "nbformat": 4,
 "nbformat_minor": 5
}
